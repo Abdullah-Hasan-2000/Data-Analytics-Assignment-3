{
 "cells": [
  {
   "cell_type": "markdown",
   "id": "f0f80ba9-049c-46f4-a068-d92ac40670d3",
   "metadata": {},
   "source": [
    "### Question 1:"
   ]
  },
  {
   "cell_type": "code",
   "execution_count": 14,
   "id": "375db95c-2222-48e1-b015-ec4f10e76b45",
   "metadata": {},
   "outputs": [
    {
     "name": "stdout",
     "output_type": "stream",
     "text": [
      "Eligible for loan\n"
     ]
    }
   ],
   "source": [
    "age = 18\n",
    "credit = 650\n",
    "ann_income = 30000\n",
    "\n",
    "if age >= 18:\n",
    "    if credit >= 700:\n",
    "        if ann_income >= 25000:\n",
    "            print(\"Eligible for loan\")\n",
    "        else:\n",
    "            print(\"Not eligible for loan\")\n",
    "        \n",
    "    elif credit >= 650:\n",
    "        if ann_income >= 30000:\n",
    "            print(\"Eligible for loan\")\n",
    "        else:\n",
    "            print(\"Not eligible for loan\")\n",
    "    else:\n",
    "        print(\"Not eligible for loan\")    \n",
    "\n",
    "else:\n",
    "    print(\"Not eligible for loan\")"
   ]
  },
  {
   "cell_type": "markdown",
   "id": "3eeb076d-6d8f-4188-967d-08a39a9d1474",
   "metadata": {},
   "source": [
    "### Question 2:"
   ]
  },
  {
   "cell_type": "code",
   "execution_count": 21,
   "id": "956ba74f-0d5b-40f5-ba94-89f5bb8826cf",
   "metadata": {},
   "outputs": [
    {
     "name": "stdin",
     "output_type": "stream",
     "text": [
      "Enter your age: 18\n",
      "How many years of experience do you have? 5\n"
     ]
    },
    {
     "name": "stdout",
     "output_type": "stream",
     "text": [
      "You have moderate experience.\n"
     ]
    }
   ],
   "source": [
    "age = int(input(\"Enter your age:\"))\n",
    "\n",
    "if age >= 18:\n",
    "    exp = int(input(\"How many years of experience do you have?\"))\n",
    "    if exp >= 10:\n",
    "        print(\"You have a lot of experience.\")\n",
    "    elif exp >= 5:\n",
    "        print(\"You have moderate experience.\")\n",
    "    elif exp >= 2:\n",
    "        print(\"You are relatively new.\")\n",
    "    else:\n",
    "        print(\"You are just starting out.\")\n",
    "    \n",
    "else:\n",
    "    print(\"You are underage\")"
   ]
  },
  {
   "cell_type": "markdown",
   "id": "d0dcb2e6-3c4c-415a-bf30-f4455f2011f7",
   "metadata": {},
   "source": [
    "### Question 3:\n",
    "### a)"
   ]
  },
  {
   "cell_type": "code",
   "execution_count": 31,
   "id": "881502d3-c732-4c8a-992e-b3dbf54080b6",
   "metadata": {},
   "outputs": [
    {
     "name": "stdout",
     "output_type": "stream",
     "text": [
      "140726948982152\n",
      "140726948982152\n"
     ]
    }
   ],
   "source": [
    "int_1 = 80\n",
    "int_2 = 80\n",
    "\n",
    "print(id(a))\n",
    "print(id(b))"
   ]
  },
  {
   "cell_type": "markdown",
   "id": "5b4993f6-6a37-4eae-9cc3-114a30f127ad",
   "metadata": {},
   "source": [
    "### Question 3:\n",
    "### b)"
   ]
  },
  {
   "cell_type": "code",
   "execution_count": 51,
   "id": "4b2cbdba-1d5d-47c5-9f5a-f33b317463cd",
   "metadata": {},
   "outputs": [
    {
     "name": "stdout",
     "output_type": "stream",
     "text": [
      "[28, 28, 66, 65, 24, 24, 104, 104]\n",
      "Least memory size is 24\n"
     ]
    }
   ],
   "source": [
    "import sys\n",
    "\n",
    "int_1 = 80\n",
    "int_2 = 80\n",
    "string_1 = \"My name is Abdullah Hasan\"\n",
    "string_2 = \"This is Assingment No. 3\"\n",
    "float_1 = 1548.15\n",
    "float_2 = 453.3\n",
    "list_1 = [23, 32, 22, 5, 1, 5]\n",
    "list_2 = ['23', '32', '41', '32', '56 any word']\n",
    "\n",
    "list_new = []\n",
    "list_new.append(sys.getsizeof(int_1))\n",
    "list_new.append(sys.getsizeof(int_2))\n",
    "list_new.append(sys.getsizeof(string_1))\n",
    "list_new.append(sys.getsizeof(string_2))\n",
    "list_new.append(sys.getsizeof(float_1))\n",
    "list_new.append(sys.getsizeof(float_2))\n",
    "list_new.append(sys.getsizeof(list_1))\n",
    "list_new.append(sys.getsizeof(list_2))\n",
    "print(list_new)\n",
    "\n",
    "minimum_value = min(list_new)\n",
    "print(\"Least memory size is\", minimum_value)\n"
   ]
  },
  {
   "cell_type": "markdown",
   "id": "5df136f8-61b7-4a20-a623-e950edfd9715",
   "metadata": {},
   "source": [
    "### Question 3:\n",
    "### c)"
   ]
  },
  {
   "cell_type": "code",
   "execution_count": null,
   "id": "2a17aa0e-20ef-455a-9584-30932a19caab",
   "metadata": {},
   "outputs": [],
   "source": [
    "print(\"\")"
   ]
  },
  {
   "cell_type": "markdown",
   "id": "d4898602-1b49-45a7-9a0c-07e0a217085b",
   "metadata": {},
   "source": [
    "### Question 4:"
   ]
  },
  {
   "cell_type": "code",
   "execution_count": 101,
   "id": "ed8ca353-3fc4-4537-bfe9-103d8ee34ce0",
   "metadata": {},
   "outputs": [
    {
     "name": "stdin",
     "output_type": "stream",
     "text": [
      "Enter your email address: abdull.sds.@gmail.com\n"
     ]
    },
    {
     "name": "stdout",
     "output_type": "stream",
     "text": [
      "Email is valid\n"
     ]
    }
   ],
   "source": [
    "email = input(\"Enter your email address:\")\n",
    "\n",
    "if (email.find(\"@\") != -1) and (email.find(\".\") != -1):\n",
    "    print(\"Email is valid\")\n",
    "else:\n",
    "    print(\"Invalid email format\")"
   ]
  },
  {
   "cell_type": "markdown",
   "id": "8966840a-bae6-4b95-b824-7903444e78a0",
   "metadata": {},
   "source": [
    "### Question 5:"
   ]
  },
  {
   "cell_type": "code",
   "execution_count": 111,
   "id": "06eae0c8-e70e-415d-9a93-971428df77fc",
   "metadata": {},
   "outputs": [
    {
     "data": {
      "text/plain": [
       "[int, float, str, list, tuple]"
      ]
     },
     "execution_count": 111,
     "metadata": {},
     "output_type": "execute_result"
    }
   ],
   "source": [
    "x = (11,22.333,'apple',[1,2,3],('a','b'))\n",
    "\n",
    "new_list = []\n",
    "\n",
    "for i in x:\n",
    "    new_list.append(type(i))\n",
    "\n",
    "new_list"
   ]
  },
  {
   "cell_type": "code",
   "execution_count": null,
   "id": "203939e0-503a-4072-8aba-b62adcc009a2",
   "metadata": {},
   "outputs": [],
   "source": []
  },
  {
   "cell_type": "code",
   "execution_count": null,
   "id": "303400b0-4690-42cb-bffb-8f7b00222941",
   "metadata": {},
   "outputs": [],
   "source": []
  },
  {
   "cell_type": "code",
   "execution_count": null,
   "id": "6aa69d58-d39f-4191-a2ba-c006a2be379c",
   "metadata": {},
   "outputs": [],
   "source": []
  },
  {
   "cell_type": "code",
   "execution_count": null,
   "id": "8c90d875-1946-4483-9481-c1d9b681ed03",
   "metadata": {},
   "outputs": [],
   "source": []
  },
  {
   "cell_type": "code",
   "execution_count": null,
   "id": "dced7f1c-0dbc-4864-83d9-6122d23746e8",
   "metadata": {},
   "outputs": [],
   "source": []
  },
  {
   "cell_type": "code",
   "execution_count": null,
   "id": "c03e5180-465c-4a18-be85-84ef6403c0cf",
   "metadata": {},
   "outputs": [],
   "source": []
  }
 ],
 "metadata": {
  "kernelspec": {
   "display_name": "Python 3 (ipykernel)",
   "language": "python",
   "name": "python3"
  },
  "language_info": {
   "codemirror_mode": {
    "name": "ipython",
    "version": 3
   },
   "file_extension": ".py",
   "mimetype": "text/x-python",
   "name": "python",
   "nbconvert_exporter": "python",
   "pygments_lexer": "ipython3",
   "version": "3.13.0"
  }
 },
 "nbformat": 4,
 "nbformat_minor": 5
}
