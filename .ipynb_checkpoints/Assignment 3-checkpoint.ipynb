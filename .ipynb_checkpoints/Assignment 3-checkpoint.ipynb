{
 "cells": [
  {
   "cell_type": "markdown",
   "id": "f0f80ba9-049c-46f4-a068-d92ac40670d3",
   "metadata": {},
   "source": [
    "### Question 1:"
   ]
  },
  {
   "cell_type": "code",
   "execution_count": 14,
   "id": "375db95c-2222-48e1-b015-ec4f10e76b45",
   "metadata": {},
   "outputs": [
    {
     "name": "stdout",
     "output_type": "stream",
     "text": [
      "Eligible for loan\n"
     ]
    }
   ],
   "source": [
    "age = 18\n",
    "credit = 650\n",
    "ann_income = 30000\n",
    "\n",
    "if age >= 18:\n",
    "    if credit >= 700:\n",
    "        if ann_income >= 25000:\n",
    "            print(\"Eligible for loan\")\n",
    "        else:\n",
    "            print(\"Not eligible for loan\")\n",
    "        \n",
    "    elif credit >= 650:\n",
    "        if ann_income >= 30000:\n",
    "            print(\"Eligible for loan\")\n",
    "        else:\n",
    "            print(\"Not eligible for loan\")\n",
    "    else:\n",
    "        print(\"Not eligible for loan\")    \n",
    "\n",
    "else:\n",
    "    print(\"Not eligible for loan\")"
   ]
  },
  {
   "cell_type": "markdown",
   "id": "3eeb076d-6d8f-4188-967d-08a39a9d1474",
   "metadata": {},
   "source": [
    "### Question 2:"
   ]
  },
  {
   "cell_type": "code",
   "execution_count": 21,
   "id": "956ba74f-0d5b-40f5-ba94-89f5bb8826cf",
   "metadata": {},
   "outputs": [
    {
     "name": "stdin",
     "output_type": "stream",
     "text": [
      "Enter your age: 18\n",
      "How many years of experience do you have? 5\n"
     ]
    },
    {
     "name": "stdout",
     "output_type": "stream",
     "text": [
      "You have moderate experience.\n"
     ]
    }
   ],
   "source": [
    "age = int(input(\"Enter your age:\"))\n",
    "\n",
    "if age >= 18:\n",
    "    exp = int(input(\"How many years of experience do you have?\"))\n",
    "    if exp >= 10:\n",
    "        print(\"You have a lot of experience.\")\n",
    "    elif exp >= 5:\n",
    "        print(\"You have moderate experience.\")\n",
    "    elif exp >= 2:\n",
    "        print(\"You are relatively new.\")\n",
    "    else:\n",
    "        print(\"You are just starting out.\")\n",
    "    \n",
    "else:\n",
    "    print(\"You are underage\")"
   ]
  },
  {
   "cell_type": "markdown",
   "id": "d0dcb2e6-3c4c-415a-bf30-f4455f2011f7",
   "metadata": {},
   "source": [
    "### Question 3:\n",
    "### a)"
   ]
  },
  {
   "cell_type": "code",
   "execution_count": 31,
   "id": "881502d3-c732-4c8a-992e-b3dbf54080b6",
   "metadata": {},
   "outputs": [
    {
     "name": "stdout",
     "output_type": "stream",
     "text": [
      "140726948982152\n",
      "140726948982152\n"
     ]
    }
   ],
   "source": [
    "int_1 = 80\n",
    "int_2 = 80\n",
    "\n",
    "print(id(a))\n",
    "print(id(b))"
   ]
  },
  {
   "cell_type": "markdown",
   "id": "5b4993f6-6a37-4eae-9cc3-114a30f127ad",
   "metadata": {},
   "source": [
    "### Question 3:\n",
    "### b)"
   ]
  },
  {
   "cell_type": "code",
   "execution_count": 31,
   "id": "4b2cbdba-1d5d-47c5-9f5a-f33b317463cd",
   "metadata": {},
   "outputs": [
    {
     "name": "stdout",
     "output_type": "stream",
     "text": [
      "[28, 28, 66, 65, 24, 24, 104, 104]\n",
      "Least memory size is 24\n"
     ]
    }
   ],
   "source": [
    "import sys\n",
    "\n",
    "int_1 = 80\n",
    "int_2 = 80\n",
    "string_1 = \"My name is Abdullah Hasan\"\n",
    "string_2 = \"This is Assingment No. 3\"\n",
    "float_1 = 1548.15\n",
    "float_2 = 453.3\n",
    "list_1 = [23, 32, 22, 5, 1, 5]\n",
    "list_2 = ['23', '32', '41', '32', '56 any word']\n",
    "\n",
    "list_new = []\n",
    "list_new.append(sys.getsizeof(int_1))\n",
    "list_new.append(sys.getsizeof(int_2))\n",
    "list_new.append(sys.getsizeof(string_1))\n",
    "list_new.append(sys.getsizeof(string_2))\n",
    "list_new.append(sys.getsizeof(float_1))\n",
    "list_new.append(sys.getsizeof(float_2))\n",
    "list_new.append(sys.getsizeof(list_1))\n",
    "list_new.append(sys.getsizeof(list_2))\n",
    "print(list_new)\n",
    "\n",
    "minimum_value = min(list_new)\n",
    "print(\"Least memory size is\", minimum_value)\n"
   ]
  },
  {
   "cell_type": "markdown",
   "id": "5df136f8-61b7-4a20-a623-e950edfd9715",
   "metadata": {},
   "source": [
    "### Question 3:\n",
    "### c)"
   ]
  },
  {
   "cell_type": "code",
   "execution_count": 32,
   "id": "2a17aa0e-20ef-455a-9584-30932a19caab",
   "metadata": {},
   "outputs": [
    {
     "name": "stdout",
     "output_type": "stream",
     "text": [
      "<class 'float'>\n"
     ]
    }
   ],
   "source": [
    "print(type(float_1))"
   ]
  },
  {
   "cell_type": "markdown",
   "id": "d4898602-1b49-45a7-9a0c-07e0a217085b",
   "metadata": {},
   "source": [
    "### Question 4:"
   ]
  },
  {
   "cell_type": "code",
   "execution_count": 4,
   "id": "4864bd1e-0c31-4327-b1e7-6e824bfad2a6",
   "metadata": {},
   "outputs": [
    {
     "name": "stdin",
     "output_type": "stream",
     "text": [
      "Enter your email address: abdullah.aha.hhhhahha23@gmail.com\n"
     ]
    },
    {
     "name": "stdout",
     "output_type": "stream",
     "text": [
      "Email is valid\n"
     ]
    }
   ],
   "source": [
    "email = input(\"Enter your email address:\")\n",
    "\n",
    "if ('@' in email) and ('.' in email):\n",
    "    print(\"Email is valid\")\n",
    "else:\n",
    "    print(\"Invalid email format\")"
   ]
  },
  {
   "cell_type": "markdown",
   "id": "8966840a-bae6-4b95-b824-7903444e78a0",
   "metadata": {},
   "source": [
    "### Question 5:"
   ]
  },
  {
   "cell_type": "code",
   "execution_count": 111,
   "id": "06eae0c8-e70e-415d-9a93-971428df77fc",
   "metadata": {},
   "outputs": [
    {
     "data": {
      "text/plain": [
       "[int, float, str, list, tuple]"
      ]
     },
     "execution_count": 111,
     "metadata": {},
     "output_type": "execute_result"
    }
   ],
   "source": [
    "x = (11,22.333,'apple',[1,2,3],('a','b'))\n",
    "\n",
    "new_list = []\n",
    "\n",
    "for i in x:\n",
    "    new_list.append(type(i))\n",
    "\n",
    "new_list"
   ]
  },
  {
   "cell_type": "markdown",
   "id": "64b8d4d3-f74a-4598-9692-547bc0eb594a",
   "metadata": {},
   "source": [
    "### Question 6:"
   ]
  },
  {
   "cell_type": "code",
   "execution_count": 8,
   "id": "32386882-b03d-400b-8eb6-f58b83fc5ce8",
   "metadata": {},
   "outputs": [
    {
     "name": "stdin",
     "output_type": "stream",
     "text": [
      "Enter Username bob\n"
     ]
    },
    {
     "name": "stdout",
     "output_type": "stream",
     "text": [
      "User Exists: True\n",
      "User is admin: False\n"
     ]
    }
   ],
   "source": [
    "list_of_users = [(\"alice\",\"admin\"),(\"bob\",\"user\"),(\"charlie\",\"moderator\")]\n",
    "user = input(\"Enter Username\")\n",
    "\n",
    "user_found = False\n",
    "admin_check = False\n",
    "admin = \"admin\"\n",
    "\n",
    "for i in list_of_users:\n",
    "    if user in i:\n",
    "        user_found = True\n",
    "        if i[1] is admin :\n",
    "            admin_check = True\n",
    "        break\n",
    "            \n",
    "\n",
    "print(\"User Exists:\", user_found)\n",
    "print(\"User is admin:\", admin_check)"
   ]
  },
  {
   "cell_type": "markdown",
   "id": "6f7d4939-12fc-4a9c-9e27-e4b74ba365ee",
   "metadata": {},
   "source": [
    "### Question 7:"
   ]
  },
  {
   "cell_type": "code",
   "execution_count": 7,
   "id": "8c90d875-1946-4483-9481-c1d9b681ed03",
   "metadata": {},
   "outputs": [
    {
     "name": "stdout",
     "output_type": "stream",
     "text": [
      "Person1 and Person2 has a Sibling Relation\n",
      "Person1 and Person3 has a Cousin Relation\n"
     ]
    }
   ],
   "source": [
    "person1 = ['george','alice','NY','5435']\n",
    "person2 = person1\n",
    "person3 = ['fred','mary','NY','5435']\n",
    "\n",
    "if person1 is person2:\n",
    "    print(\"Person1 and Person2 has a Sibling Relation\")\n",
    "else:\n",
    "    print(\"Person1 and Person2 are not Siblings\")\n",
    "\n",
    "if person1 is not person3:  \n",
    "    print(\"Person1 and Person3 has a Cousin Relation\")"
   ]
  },
  {
   "cell_type": "markdown",
   "id": "b53aa5f3-5cf8-4c21-8c6c-6b6022caa6b4",
   "metadata": {},
   "source": [
    "### Question 8:"
   ]
  },
  {
   "cell_type": "code",
   "execution_count": 11,
   "id": "c03e5180-465c-4a18-be85-84ef6403c0cf",
   "metadata": {},
   "outputs": [
    {
     "name": "stdin",
     "output_type": "stream",
     "text": [
      "Enter Book Name: Maze Runner\n",
      "Enter Book Author Name: DN\n",
      "Enter Book Publish Year: 0\n",
      "Enter Book Price: 0\n"
     ]
    },
    {
     "name": "stdout",
     "output_type": "stream",
     "text": [
      "Book Found ('Maze Runner', 'James Dashner', 2009, 2000)\n"
     ]
    }
   ],
   "source": [
    "book1 = ('Throne of Glass', 'Sarah J. Maas', 2011, 2200)\n",
    "book2 = ('Maze Runner', 'James Dashner', 2009, 2000)\n",
    "book3 = ('Hunger Games', 'Suzanne Collins', 2008, 1900)\n",
    "\n",
    "book_name = input(\"Enter Book Name:\")\n",
    "book_author = input(\"Enter Book Author Name:\")\n",
    "book_year = int(input(\"Enter Book Publish Year:\"))\n",
    "book_price = int(input(\"Enter Book Price:\"))\n",
    "\n",
    "if (book_name in book1) or (book_author in book1) or (book_year in book1) or (book_price in book1):\n",
    "    print(\"Book Found\",book1)\n",
    "elif (book_name in book2) or (book_author in book2) or (book_year in book2) or (book_price in book2):\n",
    "    print(\"Book Found\",book2)\n",
    "elif (book_name in book3) or (book_author in book3) or (book_year in book3) or (book_price in book3):\n",
    "    print(\"Book Found\",book3)\n",
    "else:\n",
    "    print(\"No record found\")"
   ]
  },
  {
   "cell_type": "markdown",
   "id": "70501fd2-decf-4e24-b4bc-2a71706a6f6c",
   "metadata": {},
   "source": [
    "### Question 9:"
   ]
  },
  {
   "cell_type": "code",
   "execution_count": 25,
   "id": "c7ecff8f-d9e9-484a-8373-22714488b88e",
   "metadata": {},
   "outputs": [
    {
     "name": "stdin",
     "output_type": "stream",
     "text": [
      "Enter Subject: science\n"
     ]
    },
    {
     "name": "stdout",
     "output_type": "stream",
     "text": [
      "Subject is Available\n"
     ]
    }
   ],
   "source": [
    "offered_subjects = [\"Math\", \"Science\", \"History\", \"Geography\", \"Computer Science\",\n",
    "                    \"math\", \"science\", \"history\", \"geography\", \"computer science\", \"Computer science\"]\n",
    "\n",
    "subject = input(\"Enter Subject:\")\n",
    "\n",
    "if subject in offered_subjects:\n",
    "    print(\"Subject is Available\")\n",
    "else:\n",
    "    print(\"Subject is not Available\")"
   ]
  },
  {
   "cell_type": "markdown",
   "id": "d7f3e359-ea91-47ad-bb18-7ab98d2b822c",
   "metadata": {},
   "source": [
    "### Question 10:"
   ]
  },
  {
   "cell_type": "code",
   "execution_count": 23,
   "id": "b45fe5e8-1818-4bb7-9c9b-4eea259dfdb4",
   "metadata": {},
   "outputs": [
    {
     "name": "stdin",
     "output_type": "stream",
     "text": [
      "Enter the number you want to find in the tuple: 4951\n"
     ]
    },
    {
     "name": "stdout",
     "output_type": "stream",
     "text": [
      "Number not in the tuple\n"
     ]
    }
   ],
   "source": [
    "tuple_10 = (932,56,2,43,7,5,4,6,2,6,2,7,8,4,6,3,1)\n",
    "\n",
    "tuple_index = int(input(\"Enter the number you want to find in the tuple:\"))\n",
    "\n",
    "if tuple_index in tuple_10:\n",
    "    first_index = tuple_10.index(tuple_index)\n",
    "    print(\"The index of first occurence of your input in the tuple is:\", first_index)\n",
    "    number_count = tuple_10.count(tuple_index)\n",
    "    if number_count > 0:\n",
    "        print(\"The count of your number is:\", number_count)\n",
    "    else:\n",
    "        print(\"The count of your number is: 0\")\n",
    "else:\n",
    "    print(\"Number not in the tuple\")"
   ]
  },
  {
   "cell_type": "markdown",
   "id": "c00f2ebf-a211-409a-a945-44e42d7c3420",
   "metadata": {},
   "source": [
    "### Extra Question"
   ]
  },
  {
   "cell_type": "code",
   "execution_count": 29,
   "id": "72c45265-c25b-450d-a66a-38953bc935e7",
   "metadata": {},
   "outputs": [
    {
     "name": "stdin",
     "output_type": "stream",
     "text": [
      "Enter temperature in Celsius: 25\n"
     ]
    },
    {
     "name": "stdout",
     "output_type": "stream",
     "text": [
      "Normal\n"
     ]
    }
   ],
   "source": [
    "temp = int(input(\"Enter temperature in Celsius:\"))\n",
    "\n",
    "if temp == -5:\n",
    "    print(\"Freezing\")\n",
    "elif temp == 25:\n",
    "    print(\"Normal\")\n",
    "elif temp == 40:\n",
    "    print(\"Hot\")"
   ]
  }
 ],
 "metadata": {
  "kernelspec": {
   "display_name": "Python 3 (ipykernel)",
   "language": "python",
   "name": "python3"
  },
  "language_info": {
   "codemirror_mode": {
    "name": "ipython",
    "version": 3
   },
   "file_extension": ".py",
   "mimetype": "text/x-python",
   "name": "python",
   "nbconvert_exporter": "python",
   "pygments_lexer": "ipython3",
   "version": "3.13.0"
  }
 },
 "nbformat": 4,
 "nbformat_minor": 5
}
